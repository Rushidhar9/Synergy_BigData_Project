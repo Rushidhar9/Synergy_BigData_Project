{
 "cells": [
  {
   "cell_type": "code",
   "execution_count": 1,
   "id": "6d39815e-43a2-4f94-b0c4-46d923497e30",
   "metadata": {},
   "outputs": [
    {
     "name": "stdout",
     "output_type": "stream",
     "text": [
      "+-----------------+----------------------+-----------+----------------+--------+-------------+-----------+------------+------------------+--------------+---------------+-----------+----------------+------------+--------------+------------------+--------------------+---------------+--------------------+-----------------+-------------+--------------+----------+\n",
      "|Source IP Address|Destination IP Address|Source Port|Destination Port|Protocol|Packet Length|Packet Type|Traffic Type|Malware Indicators|Anomaly Scores|Alerts/Warnings|Attack Type|Attack Signature|Action Taken|Severity Level|  User Information|  Device Information|Network Segment|   Geo-location Data|Proxy Information|Firewall Logs|IDS/IPS Alerts|Log Source|\n",
      "+-----------------+----------------------+-----------+----------------+--------+-------------+-----------+------------+------------------+--------------+---------------+-----------+----------------+------------+--------------+------------------+--------------------+---------------+--------------------+-----------------+-------------+--------------+----------+\n",
      "|    103.216.15.12|          84.9.164.252|      31225|           17616|    ICMP|          503|       Data|        HTTP|      IoC Detected|         28.67|Alert Triggered|    Malware| Known Pattern B|      Logged|           Low|     Reyansh Dugal|Mozilla/5.0 (comp...|      Segment A|  Jamshedpur, Sikkim|     150.9.97.135|     Log Data|    Alert Data|    Server|\n",
      "|     63.79.210.48|         198.219.82.17|      16811|           53600|     UDP|          306|    Control|        HTTP|      IoC Detected|         87.42|Alert Triggered|       DDoS| Known Pattern B|     Ignored|           Low|      Himmat Karpe|Mozilla/5.0 (comp...|      Segment C|   Bokaro, Rajasthan|   114.133.48.179|     Log Data|    Alert Data|  Firewall|\n",
      "|    71.166.185.76|       189.243.174.238|       6131|           26646|     TCP|         1462|       Data|         DNS|      IoC Detected|          0.52|Alert Triggered|       DDoS| Known Pattern B|     Blocked|           Low|      Dhanush Chad|Mozilla/5.0 (comp...|      Segment C|  Anantapur, Tripura|    149.6.110.119|     Log Data|    Alert Data|  Firewall|\n",
      "|     11.48.99.245|        178.157.14.116|      34489|           20396|    ICMP|         1022|       Data|         DNS|      IoC Detected|         54.05|Alert Triggered|  Intrusion| Known Pattern A|      Logged|          High|      Yuvaan Dubey|Mozilla/5.0 (Maci...|      Segment A|Phagwara, Andhra ...|     192.31.159.5|     Log Data|    Alert Data|  Firewall|\n",
      "|  114.109.149.113|        160.88.194.172|      37918|           50039|     UDP|          224|       Data|        HTTP|      IoC Detected|         16.51|Alert Triggered|    Malware| Known Pattern B|     Blocked|        Medium|  Mishti Chaudhuri|Mozilla/5.0 (Wind...|      Segment A|     Rampur, Mizoram|   87.128.245.244|     Log Data|    Alert Data|    Server|\n",
      "|    177.21.83.200|       196.218.124.169|      35538|           35006|    ICMP|          661|       Data|        HTTP|      IoC Detected|         24.91|Alert Triggered|    Malware| Known Pattern B|     Ignored|        Medium|         Hunar Sem|Mozilla/5.0 (iPod...|      Segment B|    Gangtok, Haryana|    29.161.99.247|     Log Data|    Alert Data|    Server|\n",
      "|     80.28.21.123|       111.204.103.106|      43729|           10845|    ICMP|         1341|       Data|        HTTP|      IoC Detected|         62.14|Alert Triggered|    Malware| Known Pattern A|     Ignored|           Low|         Siya Gera|Mozilla/5.0 (comp...|      Segment C|    Gudivada, Odisha|     59.131.15.72|     Log Data|    Alert Data|  Firewall|\n",
      "|   54.163.130.178|        62.112.149.214|      47795|           35243|     UDP|          913|       Data|         DNS|      IoC Detected|         72.65|Alert Triggered|    Malware| Known Pattern B|      Logged|          High|     Inaaya  Soman|Mozilla/5.0 (X11;...|      Segment B|Silchar, Maharashtra|   155.121.88.187|     Log Data|    Alert Data|  Firewall|\n",
      "|   212.164.196.41|           32.26.31.49|      16513|           50583|     TCP|          969|       Data|        HTTP|      IoC Detected|         40.46|Alert Triggered|       DDoS| Known Pattern A|      Logged|           Low|    Shayak Kapadia|Mozilla/5.0 (X11;...|      Segment B|  Darbhanga, Mizoram|    20.252.145.34|     Log Data|    Alert Data|  Firewall|\n",
      "|   104.176.150.78|        110.80.185.102|      55147|           17595|     TCP|          461|       Data|        HTTP|      IoC Detected|         13.19|Alert Triggered|       DDoS| Known Pattern B|     Ignored|          High|       Zara Sachar|Mozilla/5.0 (iPho...|      Segment B|Ahmednagar, Uttar...|   106.203.136.99|     Log Data|    Alert Data|    Server|\n",
      "|   116.61.253.182|         170.92.148.90|      24907|           37634|    ICMP|          845|    Control|         DNS|      IoC Detected|         89.99|Alert Triggered|    Malware| Known Pattern B|     Blocked|        Medium|  Manjari Randhawa|Mozilla/5.0 (Maci...|      Segment A|Kharagpur, West B...|    71.135.96.151|     Log Data|    Alert Data|  Firewall|\n",
      "|     57.7.171.107|          76.146.23.52|       3133|           46077|     UDP|         1425|       Data|         DNS|      IoC Detected|         72.25|Alert Triggered|       DDoS| Known Pattern A|      Logged|          High|    Akarsh Khurana|Mozilla/5.0 (comp...|      Segment A|       Gaya, Gujarat|    169.32.12.215|     Log Data|    Alert Data|    Server|\n",
      "|     46.236.76.78|        68.194.124.162|      40832|           28015|     UDP|          118|       Data|        HTTP|      IoC Detected|         96.27|Alert Triggered|    Malware| Known Pattern A|      Logged|        Medium|     Dhanush Sagar|Mozilla/5.0 (comp...|      Segment A|Chandrapur, Chhat...|    50.108.129.83|     Log Data|    Alert Data|  Firewall|\n",
      "|   182.232.245.98|       153.211.183.215|      32552|           15521|     UDP|          531|    Control|         FTP|      IoC Detected|         87.23|Alert Triggered|    Malware| Known Pattern A|     Blocked|          High|Renee Ramachandran|Mozilla/5.0 (Wind...|      Segment C|Katihar, Andhra P...|    183.242.33.16|     Log Data|    Alert Data|  Firewall|\n",
      "|   208.44.127.159|        121.167.40.167|      56607|           33023|     TCP|          282|    Control|        HTTP|      IoC Detected|          44.4|Alert Triggered|       DDoS| Known Pattern A|      Logged|           Low|        Anahi Apte|Mozilla/5.0 (comp...|      Segment A|Shahjahanpur, And...|    180.52.47.153|     Log Data|    Alert Data|  Firewall|\n",
      "|     128.62.6.140|         4.104.218.143|      11482|           16459|    ICMP|         1155|    Control|         DNS|      IoC Detected|         25.93|Alert Triggered|    Malware| Known Pattern A|     Blocked|           Low|        Jiya Devan|Mozilla/5.0 (Maci...|      Segment B|       Ludhiana, Goa|    40.171.118.90|     Log Data|    Alert Data|  Firewall|\n",
      "|     118.23.216.0|         109.17.204.56|       5032|            1068|     TCP|          308|    Control|         DNS|      IoC Detected|         85.28|Alert Triggered|  Intrusion| Known Pattern A|     Blocked|        Medium|          Ojas Ray|Mozilla/5.0 (iPho...|      Segment A|Ichalkaranji, Sikkim|   153.251.24.124|     Log Data|    Alert Data|    Server|\n",
      "|     6.64.251.220|        137.104.11.138|      26896|           45972|     UDP|          572|    Control|         DNS|      IoC Detected|         22.17|Alert Triggered|       DDoS| Known Pattern B|     Ignored|           Low|       Keya Biswas|Mozilla/5.0 (comp...|      Segment B|Dewas, Uttar Pradesh|   172.194.101.64|     Log Data|    Alert Data|    Server|\n",
      "|    194.120.14.24|        201.55.168.126|      32979|            3852|     UDP|          443|       Data|         DNS|      IoC Detected|         42.14|Alert Triggered|    Malware| Known Pattern B|     Ignored|          High|          Zara Kar|Mozilla/5.0 (Maci...|      Segment A| Parbhani, Rajasthan|    16.90.191.251|     Log Data|    Alert Data|    Server|\n",
      "|   170.211.138.30|        172.97.181.148|      25022|            6593|     TCP|          554|    Control|         DNS|      IoC Detected|         97.82|Alert Triggered|    Malware| Known Pattern B|     Blocked|          High|    Aradhya Kamdar|Mozilla/5.0 (iPod...|      Segment A|    Amravati, Kerala|    95.170.137.42|     Log Data|    Alert Data|  Firewall|\n",
      "+-----------------+----------------------+-----------+----------------+--------+-------------+-----------+------------+------------------+--------------+---------------+-----------+----------------+------------+--------------+------------------+--------------------+---------------+--------------------+-----------------+-------------+--------------+----------+\n",
      "only showing top 20 rows\n",
      "\n"
     ]
    }
   ],
   "source": [
    "from pyspark.sql import SparkSession\n",
    "spark = SparkSession.builder.getOrCreate()\n",
    "cybersecurity_data = spark.read.format('csv').option('header','true').load('cybersecurity_attacks.csv')\n",
    "cybersecurity_data.createOrReplaceTempView('Cybersecurity_attack')\n",
    "cybersecurity_data.show()"
   ]
  },
  {
   "cell_type": "code",
   "execution_count": 5,
   "id": "2967355b-7731-40f6-9d39-cbadd0dee760",
   "metadata": {},
   "outputs": [
    {
     "name": "stdout",
     "output_type": "stream",
     "text": [
      "+-----------+-----------+\n",
      "|Attack Type|Alert_Count|\n",
      "+-----------+-----------+\n",
      "|  Intrusion|       6597|\n",
      "|       DDoS|       6785|\n",
      "|    Malware|       6767|\n",
      "+-----------+-----------+\n",
      "\n"
     ]
    }
   ],
   "source": [
    "spark.sql(\"SELECT `Attack Type`, COUNT(*) AS Alert_Count FROM Cybersecurity_attack WHERE `Attack Type` IS NOT NULL GROUP BY `Attack Type`\").show()"
   ]
  },
  {
   "cell_type": "code",
   "execution_count": 6,
   "id": "a231f7d2-a652-4b95-baf3-c0df1a56d386",
   "metadata": {},
   "outputs": [
    {
     "name": "stdout",
     "output_type": "stream",
     "text": [
      "+-----------------+-------------------+\n",
      "|Source IP Address|Total_Packet_Length|\n",
      "+-----------------+-------------------+\n",
      "|   46.144.162.187|              187.0|\n",
      "|     18.29.92.139|              409.0|\n",
      "|   205.172.254.67|              899.0|\n",
      "|    141.39.56.138|               71.0|\n",
      "|    45.179.10.209|             1340.0|\n",
      "|  142.112.202.166|             1121.0|\n",
      "|      75.170.2.44|              983.0|\n",
      "|      89.72.41.50|             1308.0|\n",
      "|      34.66.239.6|              484.0|\n",
      "|  129.240.149.117|              305.0|\n",
      "|    66.105.254.64|              551.0|\n",
      "|    213.57.191.62|              462.0|\n",
      "|    8.109.227.208|             1224.0|\n",
      "|     81.64.181.90|              867.0|\n",
      "|  164.162.114.154|             1143.0|\n",
      "|   104.27.183.159|              125.0|\n",
      "|     122.85.37.74|              500.0|\n",
      "|     128.1.52.103|              993.0|\n",
      "|  125.178.118.215|              338.0|\n",
      "|   173.14.211.166|              810.0|\n",
      "+-----------------+-------------------+\n",
      "only showing top 20 rows\n",
      "\n"
     ]
    }
   ],
   "source": [
    "spark.sql(\"SELECT `Source IP Address`, SUM(`Packet Length`) AS Total_Packet_Length FROM Cybersecurity_attack GROUP BY `Source IP Address`\").show()"
   ]
  },
  {
   "cell_type": "code",
   "execution_count": 8,
   "id": "fdb47d17-6ad2-4169-96d3-c91337fe0f17",
   "metadata": {},
   "outputs": [
    {
     "name": "stdout",
     "output_type": "stream",
     "text": [
      "+--------+------------+-----------------+\n",
      "|Protocol|Traffic Type|Avg_Packet_Length|\n",
      "+--------+------------+-----------------+\n",
      "|     TCP|         DNS|773.5500222321032|\n",
      "|    ICMP|         DNS|796.1159747292419|\n",
      "|     TCP|         FTP| 772.142793594306|\n",
      "|     UDP|         FTP|783.9325206791467|\n",
      "|    ICMP|         FTP|780.1052162282657|\n",
      "|     UDP|         DNS|772.3678057553957|\n",
      "|     TCP|        HTTP|784.6418857660925|\n",
      "|     UDP|        HTTP|782.1837665298677|\n",
      "|    ICMP|        HTTP|775.6669599648043|\n",
      "+--------+------------+-----------------+\n",
      "\n"
     ]
    }
   ],
   "source": [
    "spark.sql(\"\"\"SELECT Protocol, `Traffic Type`, AVG(`Packet Length`) AS Avg_Packet_Length FROM Cybersecurity_attack WHERE \n",
    "Protocol IS NOT NULL AND `Traffic Type` IS NOT NULL GROUP BY Protocol, `Traffic Type`\"\"\").show()"
   ]
  },
  {
   "cell_type": "code",
   "execution_count": 10,
   "id": "d3f8f1db-9378-48c2-814d-6530110f5f19",
   "metadata": {},
   "outputs": [
    {
     "name": "stdout",
     "output_type": "stream",
     "text": [
      "+--------------+--------+------------------+\n",
      "|Severity Level|Protocol|  AvgAnomalyScores|\n",
      "+--------------+--------+------------------+\n",
      "|        Medium|     UDP| 50.63631375910842|\n",
      "|          High|     TCP| 49.37051716451179|\n",
      "|          High|    ICMP| 50.61745614035085|\n",
      "|        Medium|     TCP| 50.07901484480428|\n",
      "|           Low|    ICMP| 49.48265845070423|\n",
      "|          High|     UDP| 50.47782108060237|\n",
      "|        Medium|    ICMP|50.222929380993925|\n",
      "|           Low|     TCP|49.871998211890926|\n",
      "|           Low|     UDP| 50.51781441356571|\n",
      "+--------------+--------+------------------+\n",
      "\n"
     ]
    }
   ],
   "source": [
    "spark.sql(\"\"\"SELECT `Severity Level`, Protocol, AVG(`Anomaly Scores`) AS AvgAnomalyScores FROM \n",
    "Cybersecurity_attack GROUP BY `Severity Level`, Protocol\"\"\").show();"
   ]
  },
  {
   "cell_type": "code",
   "execution_count": 28,
   "id": "eff157b0-e3e8-4339-b66d-68695afec9d0",
   "metadata": {},
   "outputs": [
    {
     "name": "stdout",
     "output_type": "stream",
     "text": [
      "+--------------------+------------+-----------------+\n",
      "|    User Information|Traffic Type|Source IP Address|\n",
      "+--------------------+------------+-----------------+\n",
      "|          Aaina Arya|         FTP|      47.18.37.40|\n",
      "|          Aaina Arya|        HTTP|   80.205.196.146|\n",
      "|        Aaina Bakshi|         DNS|    69.253.205.98|\n",
      "|          Aaina Bala|         DNS|     64.75.145.73|\n",
      "|          Aaina Bala|         FTP|   163.107.130.88|\n",
      "|Aaina Balasubrama...|         DNS|     98.75.202.81|\n",
      "|        Aaina Bhatia|         FTP|   204.113.117.66|\n",
      "|        Aaina Biswas|         FTP|  151.239.189.170|\n",
      "|      Aaina Chaudhry|         DNS|   165.237.41.129|\n",
      "|        Aaina Cheema|         DNS|    41.13.124.190|\n",
      "|         Aaina Dalal|         FTP|  109.110.203.206|\n",
      "|         Aaina Dewan|         DNS|    99.169.244.85|\n",
      "|        Aaina Gulati|         FTP|     24.69.131.92|\n",
      "|          Aaina Kala|         FTP|     119.45.64.73|\n",
      "|         Aaina Kalla|         FTP|  201.158.180.199|\n",
      "|       Aaina Khurana|        HTTP|      54.2.16.249|\n",
      "|         Aaina Konda|        HTTP|    51.167.33.250|\n",
      "|          Aaina Kota|         FTP|   177.15.133.115|\n",
      "|          Aaina Mall|         FTP|  204.174.177.138|\n",
      "|        Aaina Master|         DNS|     26.7.244.166|\n",
      "+--------------------+------------+-----------------+\n",
      "only showing top 20 rows\n",
      "\n"
     ]
    }
   ],
   "source": [
    "spark.sql(\"\"\"\n",
    "    SELECT Distinct `User Information`, `Traffic Type`, `Source IP Address` \n",
    "    FROM Cybersecurity_attack WHERE `Attack Type` = 'Malware' \n",
    "    ORDER BY `User Information`\"\"\").show()"
   ]
  },
  {
   "cell_type": "code",
   "execution_count": 35,
   "id": "cfa07080-b2b3-4c1d-a45b-b62b2f7c5d80",
   "metadata": {},
   "outputs": [
    {
     "name": "stdout",
     "output_type": "stream",
     "text": [
      "+-----------------+--------------+-----------+--------------+\n",
      "|Source IP Address|Severity Level|Attack Type|Severity_Color|\n",
      "+-----------------+--------------+-----------+--------------+\n",
      "|    1.101.138.199|        Medium|       DDoS|        Yellow|\n",
      "|    1.103.203.179|           Low|       DDoS|         Green|\n",
      "|    1.105.131.117|        Medium|    Malware|        Yellow|\n",
      "|    1.107.181.228|          High|    Malware|           Red|\n",
      "|     1.109.55.199|          High|       DDoS|           Red|\n",
      "|     1.121.14.202|           Low|    Malware|         Green|\n",
      "|    1.121.213.199|          High|    Malware|           Red|\n",
      "|     1.123.54.243|          High|       DDoS|           Red|\n",
      "|     1.127.116.39|           Low|    Malware|         Green|\n",
      "|     1.131.145.70|        Medium|  Intrusion|        Yellow|\n",
      "|     1.132.183.35|        Medium|    Malware|        Yellow|\n",
      "|     1.137.245.81|          High|       DDoS|           Red|\n",
      "|      1.141.113.8|        Medium|    Malware|        Yellow|\n",
      "|     1.146.44.217|           Low|    Malware|         Green|\n",
      "|    1.150.218.120|           Low|  Intrusion|         Green|\n",
      "|      1.153.9.230|        Medium|    Malware|        Yellow|\n",
      "|    1.154.101.111|          High|  Intrusion|           Red|\n",
      "|     1.155.145.43|        Medium|    Malware|        Yellow|\n",
      "|    1.155.209.217|          High|    Malware|           Red|\n",
      "|     1.157.182.65|           Low|       DDoS|         Green|\n",
      "+-----------------+--------------+-----------+--------------+\n",
      "only showing top 20 rows\n",
      "\n"
     ]
    }
   ],
   "source": [
    "spark.sql(\"\"\"\n",
    "    SELECT `Source IP Address`, `Severity Level`,`Attack Type`,\n",
    "        CASE\n",
    "            WHEN `Severity Level` = 'Low' THEN 'Green'\n",
    "            WHEN `Severity Level` = 'Medium' THEN 'Yellow'\n",
    "            ELSE 'Red'\n",
    "        END AS Severity_Color\n",
    "    FROM Cybersecurity_attack ORDER BY `Source IP Address` ASC\n",
    "\"\"\").show()"
   ]
  },
  {
   "cell_type": "code",
   "execution_count": 40,
   "id": "648a155d-1f87-4ba9-ad42-313fcdb893dc",
   "metadata": {},
   "outputs": [
    {
     "name": "stdout",
     "output_type": "stream",
     "text": [
      "+-----------------+------------+-------------------+\n",
      "|Source IP Address|Traffic Type|Total_Packet_Length|\n",
      "+-----------------+------------+-------------------+\n",
      "|    59.163.53.131|         DNS|             1500.0|\n",
      "|  211.180.180.240|         DNS|             1500.0|\n",
      "|     21.219.2.221|        HTTP|             1500.0|\n",
      "|    175.213.52.16|         DNS|             1500.0|\n",
      "|   147.186.45.174|         DNS|             1500.0|\n",
      "|   27.148.239.152|         FTP|             1500.0|\n",
      "|     163.5.149.41|         FTP|             1500.0|\n",
      "|    149.22.146.71|         FTP|             1499.0|\n",
      "|       9.79.6.121|        HTTP|             1499.0|\n",
      "|    165.25.19.208|         FTP|             1499.0|\n",
      "+-----------------+------------+-------------------+\n",
      "\n"
     ]
    }
   ],
   "source": [
    "spark.sql(\"\"\"SELECT `Source IP Address`,`Traffic Type`, SUM(`Packet Length`) AS Total_Packet_Length FROM Cybersecurity_attack \n",
    "GROUP BY `Source IP Address`,`Traffic Type` ORDER BY Total_Packet_Length DESC LIMIT 10\"\"\").show()"
   ]
  },
  {
   "cell_type": "code",
   "execution_count": 41,
   "id": "4fd29e63-07c6-4965-9234-a6c291a2d713",
   "metadata": {},
   "outputs": [
    {
     "name": "stdout",
     "output_type": "stream",
     "text": [
      "+---------------+------------------+\n",
      "|Network Segment| Avg_Anomaly_Score|\n",
      "+---------------+------------------+\n",
      "|      Segment A| 50.03186921559705|\n",
      "|      Segment B| 50.20999252727549|\n",
      "|      Segment C|50.174521625163834|\n",
      "+---------------+------------------+\n",
      "\n"
     ]
    }
   ],
   "source": [
    "spark.sql(\"SELECT `Network Segment`, AVG(`Anomaly Scores`) AS Avg_Anomaly_Score FROM Cybersecurity_attack GROUP BY `Network Segment`\").show()"
   ]
  },
  {
   "cell_type": "code",
   "execution_count": null,
   "id": "45196d47-51dd-4bb5-b80f-1c308513af7e",
   "metadata": {},
   "outputs": [],
   "source": []
  }
 ],
 "metadata": {
  "kernelspec": {
   "display_name": "Python 3 (ipykernel)",
   "language": "python",
   "name": "python3"
  },
  "language_info": {
   "codemirror_mode": {
    "name": "ipython",
    "version": 3
   },
   "file_extension": ".py",
   "mimetype": "text/x-python",
   "name": "python",
   "nbconvert_exporter": "python",
   "pygments_lexer": "ipython3",
   "version": "3.12.0"
  }
 },
 "nbformat": 4,
 "nbformat_minor": 5
}
